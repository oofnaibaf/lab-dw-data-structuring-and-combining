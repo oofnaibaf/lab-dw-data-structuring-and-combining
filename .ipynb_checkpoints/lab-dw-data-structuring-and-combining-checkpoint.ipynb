{
 "cells": [
  {
   "cell_type": "markdown",
   "id": "25d7736c-ba17-4aff-b6bb-66eba20fbf4e",
   "metadata": {
    "id": "25d7736c-ba17-4aff-b6bb-66eba20fbf4e"
   },
   "source": [
    "# Lab | Data Structuring and Combining Data"
   ]
  },
  {
   "cell_type": "markdown",
   "id": "a2cdfc70-44c8-478c-81e7-2bc43fdf4986",
   "metadata": {
    "id": "a2cdfc70-44c8-478c-81e7-2bc43fdf4986"
   },
   "source": [
    "## Challenge 1: Combining & Cleaning Data\n",
    "\n",
    "In this challenge, we will be working with the customer data from an insurance company, as we did in the two previous labs. The data can be found here:\n",
    "- https://raw.githubusercontent.com/data-bootcamp-v4/data/main/file1.csv\n",
    "\n",
    "But this time, we got new data, which can be found in the following 2 CSV files located at the links below.\n",
    "\n",
    "- https://raw.githubusercontent.com/data-bootcamp-v4/data/main/file2.csv\n",
    "- https://raw.githubusercontent.com/data-bootcamp-v4/data/main/file3.csv\n",
    "\n",
    "Note that you'll need to clean and format the new data.\n",
    "\n",
    "Observation:\n",
    "- One option is to first combine the three datasets and then apply the cleaning function to the new combined dataset\n",
    "- Another option would be to read the clean file you saved in the previous lab, and just clean the two new files and concatenate the three clean datasets"
   ]
  },
  {
   "cell_type": "code",
   "execution_count": 15,
   "id": "492d06e3-92c7-4105-ac72-536db98d3244",
   "metadata": {
    "id": "492d06e3-92c7-4105-ac72-536db98d3244"
   },
   "outputs": [],
   "source": [
    "# Your code goes here\n",
    "import pandas as pd\n",
    "import numpy as np\n"
   ]
  },
  {
   "cell_type": "code",
   "execution_count": 16,
   "id": "874d8fb9-3284-4ac8-baf7-0741a1390598",
   "metadata": {},
   "outputs": [],
   "source": [
    "# Load the data from each CSV file\n",
    "df = 'https://raw.githubusercontent.com/data-bootcamp-v4/data/main/file1.csv'\n",
    "\n",
    "df = pd.read_csv(file1)\n"
   ]
  },
  {
   "cell_type": "code",
   "execution_count": 17,
   "id": "b3fc4d09-6e45-4e0e-946c-2e1a4a7bfe6c",
   "metadata": {},
   "outputs": [
    {
     "data": {
      "text/plain": [
       "Index(['Customer', 'ST', 'GENDER', 'Education', 'Customer Lifetime Value',\n",
       "       'Income', 'Monthly Premium Auto', 'Number of Open Complaints',\n",
       "       'Policy Type', 'Vehicle Class', 'Total Claim Amount'],\n",
       "      dtype='object')"
      ]
     },
     "metadata": {},
     "output_type": "display_data"
    }
   ],
   "source": [
    "col_names = df.columns\n",
    "display(col_names)"
   ]
  },
  {
   "cell_type": "code",
   "execution_count": 8,
   "id": "2ae536e2-56a1-4cf4-9080-6daa16d20386",
   "metadata": {},
   "outputs": [
    {
     "name": "stdout",
     "output_type": "stream",
     "text": [
      "Updated Column Names:\n"
     ]
    },
    {
     "data": {
      "text/plain": [
       "Index(['customer', 'state', 'gender', 'education', 'customer_lifetime_value',\n",
       "       'income', 'monthly_premium_auto', 'number_of_open_complaints',\n",
       "       'policy_type', 'vehicle_class', 'total_claim_amount'],\n",
       "      dtype='object')"
      ]
     },
     "metadata": {},
     "output_type": "display_data"
    }
   ],
   "source": [
    "data = {\n",
    "    'Customer': [],\n",
    "    'ST': [],\n",
    "    'GENDER': [],\n",
    "    'Education': [],\n",
    "    'Customer Lifetime Value': [],\n",
    "    'Income': [],\n",
    "    'Monthly Premium Auto': [],\n",
    "    'Number of Open Complaints': [],\n",
    "    'Policy Type': [],\n",
    "    'Vehicle Class': [],\n",
    "    'Total Claim Amount': []\n",
    "}\n",
    "df = pd.DataFrame(data)\n",
    "\n",
    "# Rename columns\n",
    "df.columns = (\n",
    "    df.columns.str.lower()                # Convert to lowercase\n",
    "            .str.replace(' ', '_')        # Replace spaces with underscores\n",
    ")\n",
    "\n",
    "df = df.rename(columns={'st': 'state'})\n",
    "\n",
    "# Print updated column names\n",
    "print(\"Updated Column Names:\")\n",
    "display(df.columns)"
   ]
  },
  {
   "cell_type": "markdown",
   "id": "31b8a9e7-7db9-4604-991b-ef6771603e57",
   "metadata": {
    "id": "31b8a9e7-7db9-4604-991b-ef6771603e57"
   },
   "source": [
    "# Challenge 2: Structuring Data"
   ]
  },
  {
   "cell_type": "markdown",
   "id": "a877fd6d-7a0c-46d2-9657-f25036e4ca4b",
   "metadata": {
    "id": "a877fd6d-7a0c-46d2-9657-f25036e4ca4b"
   },
   "source": [
    "In this challenge, we will continue to work with customer data from an insurance company, but we will use a dataset with more columns, called marketing_customer_analysis.csv, which can be found at the following link:\n",
    "\n",
    "https://raw.githubusercontent.com/data-bootcamp-v4/data/main/marketing_customer_analysis_clean.csv\n",
    "\n",
    "This dataset contains information such as customer demographics, policy details, vehicle information, and the customer's response to the last marketing campaign. Our goal is to explore and analyze this data by performing data cleaning, formatting, and structuring."
   ]
  },
  {
   "cell_type": "code",
   "execution_count": 27,
   "id": "aa10d9b0-1c27-4d3f-a8e4-db6ab73bfd26",
   "metadata": {
    "id": "aa10d9b0-1c27-4d3f-a8e4-db6ab73bfd26"
   },
   "outputs": [],
   "source": [
    "# Load the data from each CSV file\n",
    "file1 = 'https://raw.githubusercontent.com/data-bootcamp-v4/data/main/file1.csv'\n",
    "file2 = 'https://raw.githubusercontent.com/data-bootcamp-v4/data/main/file2.csv'\n",
    "file3 = 'https://raw.githubusercontent.com/data-bootcamp-v4/data/main/file3.csv'\n",
    "\n",
    "df1 = pd.read_csv(file1)\n",
    "df2 = pd.read_csv(file2)\n",
    "df3 = pd.read_csv(file3)"
   ]
  },
  {
   "cell_type": "code",
   "execution_count": 28,
   "id": "1c1b47f8-f576-490b-b63e-26106ad4ba3f",
   "metadata": {},
   "outputs": [],
   "source": [
    "combined_df = pd.concat([df1, df2, df3], ignore_index=True)"
   ]
  },
  {
   "cell_type": "code",
   "execution_count": 20,
   "id": "006f3852-1b46-4468-8083-305ae39f4663",
   "metadata": {},
   "outputs": [
    {
     "data": {
      "text/plain": [
       "Index(['Customer', 'ST', 'GENDER', 'Education', 'Customer Lifetime Value',\n",
       "       'Income', 'Monthly Premium Auto', 'Number of Open Complaints',\n",
       "       'Policy Type', 'Vehicle Class', 'Total Claim Amount', 'State',\n",
       "       'Gender'],\n",
       "      dtype='object')"
      ]
     },
     "metadata": {},
     "output_type": "display_data"
    }
   ],
   "source": [
    "#col_names = combined_df.columns\n",
    "#display(col_names)"
   ]
  },
  {
   "cell_type": "code",
   "execution_count": 33,
   "id": "4cf9d6bb-e99d-41b0-8713-4d9266b8b819",
   "metadata": {},
   "outputs": [],
   "source": [
    "def clean_combined_data(df):\n",
    "    \n",
    "    # 1. Standardize column names\n",
    "    df.columns = df.columns.str.strip().str.lower().str.replace(' ', '_')\n",
    "    \n",
    "    # 2. Handle missing values\n",
    "    # Numeric columns: fill with median, categorical columns: fill with mode\n",
    "    for col in df.columns:\n",
    "        if pd.api.types.is_numeric_dtype(df[col]):\n",
    "            df[col] = df[col].fillna(df[col].median())\n",
    "        elif pd.api.types.is_object_dtype(df[col]):\n",
    "            df[col] = df[col].fillna(df[col].mode()[0])\n",
    "    \n",
    "    # 3. Remove duplicates\n",
    "    df = df.drop_duplicates()\n",
    "    \n",
    "    # 4. Convert data types if needed\n",
    "    # Convert 'customer_lifetime_value' to numeric safely\n",
    "    if 'customer_lifetime_value' in df.columns:\n",
    "        df.loc[:, 'customer_lifetime_value'] = pd.to_numeric(df['customer_lifetime_value'], errors='coerce')\n",
    "\n",
    "    # Convert 'number_of_open_complaints' safely\n",
    "    if 'number_of_open_complaints' in df.columns:\n",
    "        df.loc[:, 'number_of_open_complaints'] = df['number_of_open_complaints'].apply(\n",
    "            lambda x: int(x.split('/')[1]) if isinstance(x, str) and '/' in x else x\n",
    "        )\n",
    "        df.loc[:, 'number_of_open_complaints'] = pd.to_numeric(df['number_of_open_complaints'], errors='coerce')\n",
    "\n",
    "    # Return cleaned DataFrame\n",
    "    return df\n"
   ]
  },
  {
   "cell_type": "code",
   "execution_count": 34,
   "id": "b788a118-d0af-4943-ab62-be9dee2b635b",
   "metadata": {},
   "outputs": [],
   "source": [
    "combined_df_cleaned = clean_combined_data(combined_df)"
   ]
  },
  {
   "cell_type": "code",
   "execution_count": 35,
   "id": "111ed3a2-4de2-401d-bb9e-d9fa96685d4e",
   "metadata": {},
   "outputs": [
    {
     "name": "stdout",
     "output_type": "stream",
     "text": [
      "\n",
      "Cleaned DataFrame Info:\n",
      "<class 'pandas.core.frame.DataFrame'>\n",
      "Index: 9135 entries, 0 to 12073\n",
      "Data columns (total 13 columns):\n",
      " #   Column                     Non-Null Count  Dtype  \n",
      "---  ------                     --------------  -----  \n",
      " 0   customer                   9135 non-null   object \n",
      " 1   st                         9135 non-null   object \n",
      " 2   gender                     1942 non-null   object \n",
      " 3   education                  9135 non-null   object \n",
      " 4   customer_lifetime_value    7078 non-null   object \n",
      " 5   income                     9135 non-null   float64\n",
      " 6   monthly_premium_auto       9135 non-null   float64\n",
      " 7   number_of_open_complaints  9135 non-null   object \n",
      " 8   policy_type                9135 non-null   object \n",
      " 9   vehicle_class              9135 non-null   object \n",
      " 10  total_claim_amount         9135 non-null   float64\n",
      " 11  state                      9135 non-null   object \n",
      " 12  gender                     7070 non-null   object \n",
      "dtypes: float64(3), object(10)\n",
      "memory usage: 999.1+ KB\n",
      "None\n",
      "\n",
      "Cleaned DataFrame Head:\n",
      "  customer          st gender             education customer_lifetime_value  \\\n",
      "0  RB50392  Washington    NaN                Master             2300.691547   \n",
      "1  QZ44356     Arizona      F              Bachelor                     NaN   \n",
      "2  AI49188      Nevada      F              Bachelor                     NaN   \n",
      "3  WW63253  California      M              Bachelor                     NaN   \n",
      "4  GA49547  Washington      M  High School or Below                     NaN   \n",
      "\n",
      "    income  monthly_premium_auto number_of_open_complaints     policy_type  \\\n",
      "0      0.0                1000.0                         0   Personal Auto   \n",
      "1      0.0                  94.0                         0   Personal Auto   \n",
      "2  48767.0                 108.0                         0   Personal Auto   \n",
      "3      0.0                 106.0                         0  Corporate Auto   \n",
      "4  36357.0                  68.0                         0   Personal Auto   \n",
      "\n",
      "   vehicle_class  total_claim_amount       state gender  \n",
      "0  Four-Door Car            2.704934  California    NaN  \n",
      "1  Four-Door Car         1131.464935  California    NaN  \n",
      "2   Two-Door Car          566.472247  California    NaN  \n",
      "3            SUV          529.881344  California    NaN  \n",
      "4  Four-Door Car           17.269323  California    NaN  \n"
     ]
    }
   ],
   "source": [
    "# Display information about the cleaned DataFrame\n",
    "print(\"\\nCleaned DataFrame Info:\")\n",
    "print(combined_df_cleaned.info())\n",
    "\n",
    "# Display the first few rows of the cleaned DataFrame\n",
    "print(\"\\nCleaned DataFrame Head:\")\n",
    "print(combined_df_cleaned.head())"
   ]
  },
  {
   "cell_type": "markdown",
   "id": "df35fd0d-513e-4e77-867e-429da10a9cc7",
   "metadata": {
    "id": "df35fd0d-513e-4e77-867e-429da10a9cc7"
   },
   "source": [
    "1. You work at the marketing department and you want to know which sales channel brought the most sales in terms of total revenue. Using pivot, create a summary table showing the total revenue for each sales channel (branch, call center, web, and mail).\n",
    "Round the total revenue to 2 decimal points.  Analyze the resulting table to draw insights."
   ]
  },
  {
   "cell_type": "markdown",
   "id": "640993b2-a291-436c-a34d-a551144f8196",
   "metadata": {
    "id": "640993b2-a291-436c-a34d-a551144f8196"
   },
   "source": [
    "2. Create a pivot table that shows the average customer lifetime value per gender and education level. Analyze the resulting table to draw insights."
   ]
  },
  {
   "cell_type": "markdown",
   "id": "32c7f2e5-3d90-43e5-be33-9781b6069198",
   "metadata": {
    "id": "32c7f2e5-3d90-43e5-be33-9781b6069198"
   },
   "source": [
    "## Bonus\n",
    "\n",
    "You work at the customer service department and you want to know which months had the highest number of complaints by policy type category. Create a summary table showing the number of complaints by policy type and month.\n",
    "Show it in a long format table."
   ]
  },
  {
   "cell_type": "markdown",
   "id": "e3d09a8f-953c-448a-a5f8-2e5a8cca7291",
   "metadata": {
    "id": "e3d09a8f-953c-448a-a5f8-2e5a8cca7291"
   },
   "source": [
    "*In data analysis, a long format table is a way of structuring data in which each observation or measurement is stored in a separate row of the table. The key characteristic of a long format table is that each column represents a single variable, and each row represents a single observation of that variable.*\n",
    "\n",
    "*More information about long and wide format tables here: https://www.statology.org/long-vs-wide-data/*"
   ]
  },
  {
   "cell_type": "code",
   "execution_count": null,
   "id": "3a069e0b-b400-470e-904d-d17582191be4",
   "metadata": {
    "id": "3a069e0b-b400-470e-904d-d17582191be4"
   },
   "outputs": [],
   "source": [
    "# Your code goes here"
   ]
  }
 ],
 "metadata": {
  "colab": {
   "provenance": []
  },
  "kernelspec": {
   "display_name": "Python 3 (ipykernel)",
   "language": "python",
   "name": "python3"
  },
  "language_info": {
   "codemirror_mode": {
    "name": "ipython",
    "version": 3
   },
   "file_extension": ".py",
   "mimetype": "text/x-python",
   "name": "python",
   "nbconvert_exporter": "python",
   "pygments_lexer": "ipython3",
   "version": "3.9.20"
  }
 },
 "nbformat": 4,
 "nbformat_minor": 5
}
